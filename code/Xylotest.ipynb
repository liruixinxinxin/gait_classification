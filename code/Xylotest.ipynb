{
 "cells": [
  {
   "cell_type": "code",
   "execution_count": 5,
   "metadata": {},
   "outputs": [],
   "source": [
    "# - Numpy\n",
    "import numpy as np\n",
    "\n",
    "# - Matplotlib\n",
    "import sys\n",
    "!{sys.executable} -m pip install --quiet matplotlib\n",
    "import matplotlib.pyplot as plt\n",
    "%matplotlib inline\n",
    "plt.rcParams['figure.figsize'] = [12, 4]\n",
    "plt.rcParams['figure.dpi'] = 300\n",
    "\n",
    "# - Rockpool time-series handling\n",
    "from rockpool import TSEvent, TSContinuous\n",
    "\n",
    "# - Pretty printing\n",
    "try:\n",
    "    from rich import print\n",
    "except:\n",
    "    pass\n",
    "\n",
    "# - Display images\n",
    "from IPython.display import Image\n",
    "\n",
    "# - Disable warnings\n",
    "import warnings\n",
    "warnings.filterwarnings('ignore')"
   ]
  },
  {
   "cell_type": "code",
   "execution_count": 6,
   "metadata": {},
   "outputs": [],
   "source": [
    "# - Import the computational modules and combinators required for the networl\n",
    "from rockpool.nn.modules import LIFTorch, LinearTorch\n",
    "from rockpool.nn.combinators import Sequential, Residual\n"
   ]
  },
  {
   "cell_type": "code",
   "execution_count": 7,
   "metadata": {},
   "outputs": [],
   "source": [
    "# - Define the size of the network layers\n",
    "Nin = 2\n",
    "Nhidden = 4\n",
    "Nout = 2\n",
    "dt = 1e-3"
   ]
  },
  {
   "cell_type": "code",
   "execution_count": 8,
   "metadata": {},
   "outputs": [
    {
     "name": "stdout",
     "output_type": "stream",
     "text": [
      "TorchSequential  with shape (2, 2) {\n",
      "    LinearTorch '0_LinearTorch' with shape (2, 4)\n",
      "    LIFTorch '1_LIFTorch' with shape (4, 4)\n",
      "    TorchResidual '2_TorchResidual' with shape (4, 4) {\n",
      "        LinearTorch '0_LinearTorch' with shape (4, 4)\n",
      "        LIFTorch '1_LIFTorch' with shape (4, 4)\n",
      "    }\n",
      "    LinearTorch '3_LinearTorch' with shape (4, 2)\n",
      "    LIFTorch '4_LIFTorch' with shape (2, 2)\n",
      "}\n"
     ]
    }
   ],
   "source": [
    "# - Define the network architecture using combinators and modules\n",
    "net = Sequential(\n",
    "    LinearTorch((Nin, Nhidden), has_bias = False),\n",
    "    LIFTorch(Nhidden, dt = dt),\n",
    "\n",
    "    Residual(\n",
    "        LinearTorch((Nhidden, Nhidden), has_bias = False),\n",
    "        LIFTorch(Nhidden, has_rec = True, threshold = 10., dt = dt),\n",
    "    ),\n",
    "\n",
    "    LinearTorch((Nhidden, Nout), has_bias = False),\n",
    "    LIFTorch(Nout, dt = dt),\n",
    ")\n",
    "print(net)"
   ]
  },
  {
   "cell_type": "code",
   "execution_count": 11,
   "metadata": {},
   "outputs": [
    {
     "ename": "AssertionError",
     "evalue": "This tutorial requires a connected Xylo HDK to run.",
     "output_type": "error",
     "traceback": [
      "\u001b[0;31m---------------------------------------------------------------------------\u001b[0m",
      "\u001b[0;31mAssertionError\u001b[0m                            Traceback (most recent call last)",
      "Cell \u001b[0;32mIn[11], line 13\u001b[0m\n\u001b[1;32m     11\u001b[0m     x \u001b[39m=\u001b[39m support_modules[\u001b[39m0\u001b[39m]\n\u001b[1;32m     12\u001b[0m \u001b[39melse\u001b[39;00m:\n\u001b[0;32m---> 13\u001b[0m     \u001b[39massert\u001b[39;00m \u001b[39mFalse\u001b[39;00m, \u001b[39m'\u001b[39m\u001b[39mThis tutorial requires a connected Xylo HDK to run.\u001b[39m\u001b[39m'\u001b[39m\n",
      "\u001b[0;31mAssertionError\u001b[0m: This tutorial requires a connected Xylo HDK to run."
     ]
    }
   ],
   "source": [
    "# - Import the Xylo HDK detection function\n",
    "from rockpool.devices.xylo import find_xylo_hdks\n",
    "\n",
    "# - Detect a connected HDK and import the required support package\n",
    "connected_hdks, support_modules, chip_versions = find_xylo_hdks()\n",
    "\n",
    "found_xylo = len(connected_hdks) > 0\n",
    "\n",
    "if found_xylo:\n",
    "    hdk = connected_hdks[0]\n",
    "    x = support_modules[0]\n",
    "else:\n",
    "    assert False, 'This tutorial requires a connected Xylo HDK to run.'"
   ]
  },
  {
   "cell_type": "code",
   "execution_count": null,
   "metadata": {},
   "outputs": [],
   "source": []
  },
  {
   "cell_type": "code",
   "execution_count": null,
   "metadata": {},
   "outputs": [],
   "source": []
  }
 ],
 "metadata": {
  "kernelspec": {
   "display_name": "gait",
   "language": "python",
   "name": "python3"
  },
  "language_info": {
   "codemirror_mode": {
    "name": "ipython",
    "version": 3
   },
   "file_extension": ".py",
   "mimetype": "text/x-python",
   "name": "python",
   "nbconvert_exporter": "python",
   "pygments_lexer": "ipython3",
   "version": "3.8.10"
  },
  "orig_nbformat": 4
 },
 "nbformat": 4,
 "nbformat_minor": 2
}
